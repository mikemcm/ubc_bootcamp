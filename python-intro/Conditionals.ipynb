{
 "metadata": {
  "name": ""
 },
 "nbformat": 3,
 "nbformat_minor": 0,
 "worksheets": [
  {
   "cells": [
    {
     "cell_type": "code",
     "collapsed": false,
     "input": [
      "import colors\n",
      "from ipythonblocks import ImageGrid"
     ],
     "language": "python",
     "metadata": {},
     "outputs": [],
     "prompt_number": 96
    },
    {
     "cell_type": "code",
     "collapsed": false,
     "input": [
      "row = ImageGrid(6,1)\n",
      "row[1,0] = colors.ORCHID\n",
      "row[5,0] = colors.ORCHID\n",
      "row.show()"
     ],
     "language": "python",
     "metadata": {},
     "outputs": [
      {
       "html": [
        "<style type=\"text/css\">table.blockgrid {border: none;} .blockgrid tr {border: none;} .blockgrid td {padding: 0px;} #blockse94855f0-4090-4036-a372-dbdbf46ca818 td {border: 1px solid white;}</style><table id=\"blockse94855f0-4090-4036-a372-dbdbf46ca818\" class=\"blockgrid\"><tbody><tr><td title=\"Index: [0, 0]&#10;Color: (0, 0, 0)\" style=\"width: 20px; height: 20px;background-color: rgb(0, 0, 0);\"></td><td title=\"Index: [1, 0]&#10;Color: (218, 112, 214)\" style=\"width: 20px; height: 20px;background-color: rgb(218, 112, 214);\"></td><td title=\"Index: [2, 0]&#10;Color: (0, 0, 0)\" style=\"width: 20px; height: 20px;background-color: rgb(0, 0, 0);\"></td><td title=\"Index: [3, 0]&#10;Color: (0, 0, 0)\" style=\"width: 20px; height: 20px;background-color: rgb(0, 0, 0);\"></td><td title=\"Index: [4, 0]&#10;Color: (0, 0, 0)\" style=\"width: 20px; height: 20px;background-color: rgb(0, 0, 0);\"></td><td title=\"Index: [5, 0]&#10;Color: (218, 112, 214)\" style=\"width: 20px; height: 20px;background-color: rgb(218, 112, 214);\"></td></tr></tbody></table>"
       ],
       "metadata": {},
       "output_type": "display_data",
       "text": [
        "<IPython.core.display.HTML at 0x6016b00>"
       ]
      }
     ],
     "prompt_number": 97
    },
    {
     "cell_type": "code",
     "collapsed": false,
     "input": [
      "for number in range(-2,3):\n",
      "    if number < 0:\n",
      "        print 'less than zero'\n",
      "    elif number == 0:\n",
      "        print 'zero'\n",
      "    else:\n",
      "        print 'must be positive'"
     ],
     "language": "python",
     "metadata": {},
     "outputs": [
      {
       "output_type": "stream",
       "stream": "stdout",
       "text": [
        "less than zero\n",
        "less than zero\n",
        "zero\n",
        "must be positive\n",
        "must be positive\n"
       ]
      }
     ],
     "prompt_number": 98
    },
    {
     "cell_type": "code",
     "collapsed": false,
     "input": [
      "def invert(grid):\n",
      "    result = ImageGrid(grid.width,grid.height)\n",
      "    for x in range(grid.width):\n",
      "        if grid[x,0].rgb == colors.BLACK:\n",
      "            result[x,0].rgb = colors.ORCHID\n",
      "        else:\n",
      "            result[x,0].rgb = colors.BLACK\n",
      "    return result\n",
      "        "
     ],
     "language": "python",
     "metadata": {},
     "outputs": [],
     "prompt_number": 99
    },
    {
     "cell_type": "code",
     "collapsed": false,
     "input": [
      "row.show()"
     ],
     "language": "python",
     "metadata": {},
     "outputs": [
      {
       "html": [
        "<style type=\"text/css\">table.blockgrid {border: none;} .blockgrid tr {border: none;} .blockgrid td {padding: 0px;} #blocksd3b6c91c-9b3a-4781-9364-720eab13c078 td {border: 1px solid white;}</style><table id=\"blocksd3b6c91c-9b3a-4781-9364-720eab13c078\" class=\"blockgrid\"><tbody><tr><td title=\"Index: [0, 0]&#10;Color: (0, 0, 0)\" style=\"width: 20px; height: 20px;background-color: rgb(0, 0, 0);\"></td><td title=\"Index: [1, 0]&#10;Color: (218, 112, 214)\" style=\"width: 20px; height: 20px;background-color: rgb(218, 112, 214);\"></td><td title=\"Index: [2, 0]&#10;Color: (0, 0, 0)\" style=\"width: 20px; height: 20px;background-color: rgb(0, 0, 0);\"></td><td title=\"Index: [3, 0]&#10;Color: (0, 0, 0)\" style=\"width: 20px; height: 20px;background-color: rgb(0, 0, 0);\"></td><td title=\"Index: [4, 0]&#10;Color: (0, 0, 0)\" style=\"width: 20px; height: 20px;background-color: rgb(0, 0, 0);\"></td><td title=\"Index: [5, 0]&#10;Color: (218, 112, 214)\" style=\"width: 20px; height: 20px;background-color: rgb(218, 112, 214);\"></td></tr></tbody></table>"
       ],
       "metadata": {},
       "output_type": "display_data",
       "text": [
        "<IPython.core.display.HTML at 0x5ffde80>"
       ]
      }
     ],
     "prompt_number": 100
    },
    {
     "cell_type": "code",
     "collapsed": false,
     "input": [
      "inverted = invert(row)\n",
      "inverted.show()"
     ],
     "language": "python",
     "metadata": {},
     "outputs": [
      {
       "html": [
        "<style type=\"text/css\">table.blockgrid {border: none;} .blockgrid tr {border: none;} .blockgrid td {padding: 0px;} #blocks85224dca-9639-4eea-a451-d5ec7d06682e td {border: 1px solid white;}</style><table id=\"blocks85224dca-9639-4eea-a451-d5ec7d06682e\" class=\"blockgrid\"><tbody><tr><td title=\"Index: [0, 0]&#10;Color: (218, 112, 214)\" style=\"width: 20px; height: 20px;background-color: rgb(218, 112, 214);\"></td><td title=\"Index: [1, 0]&#10;Color: (0, 0, 0)\" style=\"width: 20px; height: 20px;background-color: rgb(0, 0, 0);\"></td><td title=\"Index: [2, 0]&#10;Color: (218, 112, 214)\" style=\"width: 20px; height: 20px;background-color: rgb(218, 112, 214);\"></td><td title=\"Index: [3, 0]&#10;Color: (218, 112, 214)\" style=\"width: 20px; height: 20px;background-color: rgb(218, 112, 214);\"></td><td title=\"Index: [4, 0]&#10;Color: (218, 112, 214)\" style=\"width: 20px; height: 20px;background-color: rgb(218, 112, 214);\"></td><td title=\"Index: [5, 0]&#10;Color: (0, 0, 0)\" style=\"width: 20px; height: 20px;background-color: rgb(0, 0, 0);\"></td></tr></tbody></table>"
       ],
       "metadata": {},
       "output_type": "display_data",
       "text": [
        "<IPython.core.display.HTML at 0x5ffd630>"
       ]
      }
     ],
     "prompt_number": 101
    },
    {
     "cell_type": "code",
     "collapsed": false,
     "input": [
      "def color_from_string(grid, data):\n",
      "    \"\"\"\n",
      "    Color grid cells red and green according to 'R' and 'G' in data.\n",
      "    \"\"\"\n",
      "    assert len(data) == grid.width, 'Grid and string length are not equal'\n",
      "    for x in range(grid.width):\n",
      "        assert data[x] in 'RG', 'Unknown character in data string'\n",
      "        if data[x] == 'R':\n",
      "            grid[x,0] = colors.RED\n",
      "        else:\n",
      "            grid[x,0] = colors.GREEN"
     ],
     "language": "python",
     "metadata": {},
     "outputs": [],
     "prompt_number": 123
    },
    {
     "cell_type": "code",
     "collapsed": false,
     "input": [
      "grid = ImageGrid(8,1)\n",
      "data = 'RGRGRRRR'\n",
      "color_from_string(grid,data)\n",
      "grid.show()"
     ],
     "language": "python",
     "metadata": {},
     "outputs": [
      {
       "html": [
        "<style type=\"text/css\">table.blockgrid {border: none;} .blockgrid tr {border: none;} .blockgrid td {padding: 0px;} #blocksf2c8611e-2c22-4099-8ae0-bf7e1d24e214 td {border: 1px solid white;}</style><table id=\"blocksf2c8611e-2c22-4099-8ae0-bf7e1d24e214\" class=\"blockgrid\"><tbody><tr><td title=\"Index: [0, 0]&#10;Color: (255, 0, 0)\" style=\"width: 20px; height: 20px;background-color: rgb(255, 0, 0);\"></td><td title=\"Index: [1, 0]&#10;Color: (0, 255, 0)\" style=\"width: 20px; height: 20px;background-color: rgb(0, 255, 0);\"></td><td title=\"Index: [2, 0]&#10;Color: (255, 0, 0)\" style=\"width: 20px; height: 20px;background-color: rgb(255, 0, 0);\"></td><td title=\"Index: [3, 0]&#10;Color: (0, 255, 0)\" style=\"width: 20px; height: 20px;background-color: rgb(0, 255, 0);\"></td><td title=\"Index: [4, 0]&#10;Color: (255, 0, 0)\" style=\"width: 20px; height: 20px;background-color: rgb(255, 0, 0);\"></td><td title=\"Index: [5, 0]&#10;Color: (255, 0, 0)\" style=\"width: 20px; height: 20px;background-color: rgb(255, 0, 0);\"></td><td title=\"Index: [6, 0]&#10;Color: (255, 0, 0)\" style=\"width: 20px; height: 20px;background-color: rgb(255, 0, 0);\"></td><td title=\"Index: [7, 0]&#10;Color: (255, 0, 0)\" style=\"width: 20px; height: 20px;background-color: rgb(255, 0, 0);\"></td></tr></tbody></table>"
       ],
       "metadata": {},
       "output_type": "display_data",
       "text": [
        "<IPython.core.display.HTML at 0x6016c88>"
       ]
      }
     ],
     "prompt_number": 124
    },
    {
     "cell_type": "code",
     "collapsed": false,
     "input": [
      "range?\n",
      "# brings up help menu for range"
     ],
     "language": "python",
     "metadata": {},
     "outputs": [],
     "prompt_number": 122
    },
    {
     "cell_type": "code",
     "collapsed": false,
     "input": [],
     "language": "python",
     "metadata": {},
     "outputs": []
    }
   ],
   "metadata": {}
  }
 ]
}